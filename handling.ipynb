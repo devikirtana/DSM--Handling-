{
 "cells": [
  {
   "cell_type": "markdown",
   "id": "f65d582d-346e-4076-b3d2-2f27065490a5",
   "metadata": {},
   "source": [
    "# Qn 1"
   ]
  },
  {
   "cell_type": "markdown",
   "id": "c5280efd-22a1-4c29-b9a4-cc22f424a0d9",
   "metadata": {},
   "source": [
    "\"\"\" when a phython script encounters a situation that it cant cope with ,it raises an exception .An exception is a phython object that represent an error.\n",
    "A syntax error occurs when structure of a program doesnt confirm to the rules of the programming language.Syntax error are usually detected by the compiler when the program is executed\n",
    "Exception is an abnormal event that occurs during the exception of a program.Exception are caused during the runtime\"\"\""
   ]
  },
  {
   "cell_type": "markdown",
   "id": "2a655e60-1abb-411a-bd8e-248f3b4d2e34",
   "metadata": {},
   "source": [
    "# Qn 2"
   ]
  },
  {
   "cell_type": "markdown",
   "id": "85cee944-3ef9-4719-be7a-3392428b536f",
   "metadata": {},
   "source": [
    "\"\"\" If the exception clause is not handled ,the program stop executing with an error message \"\"\""
   ]
  },
  {
   "cell_type": "markdown",
   "id": "bf64a495-00bc-4b6d-a060-2561c5d40249",
   "metadata": {},
   "source": [
    "# Qn 3"
   ]
  },
  {
   "cell_type": "markdown",
   "id": "a30f201e-5ca3-4da4-822b-607841269e20",
   "metadata": {},
   "source": [
    "\"\"\" The try and except block in python is used to catch and handle exception \"\"\" "
   ]
  },
  {
   "cell_type": "code",
   "execution_count": 2,
   "id": "7d2a3bef-f5b8-4d9c-bb49-b0bba138737e",
   "metadata": {},
   "outputs": [
    {
     "name": "stdout",
     "output_type": "stream",
     "text": [
      "there is some error in the program\n"
     ]
    }
   ],
   "source": [
    "try:\n",
    "    f.open(\"test.txt\",'r')\n",
    "except Exception as e:\n",
    "    print (\"there is some error in the program\")"
   ]
  },
  {
   "cell_type": "markdown",
   "id": "1abee075-bc7e-469b-ab0b-05dc56599e2b",
   "metadata": {},
   "source": [
    "# Qn 4"
   ]
  },
  {
   "cell_type": "markdown",
   "id": "3c4b19cd-028f-49e3-8fa9-7805e4ae3008",
   "metadata": {},
   "source": [
    "\"\"\"a) Try and Else\n",
    "        When the try block is true ,else block will be executed\"\"\""
   ]
  },
  {
   "cell_type": "code",
   "execution_count": 10,
   "id": "ef0641bb-5ef1-4baf-8968-8b53d60220f3",
   "metadata": {},
   "outputs": [
    {
     "name": "stdout",
     "output_type": "stream",
     "text": [
      "there is some error in the program\n"
     ]
    }
   ],
   "source": [
    "try:\n",
    "    f.open(\"test1.txt\",'w')\n",
    "    f.write(\"this is my msg\")\n",
    "except Exception as e:\n",
    "    print (\"there is some error in the program\")\n",
    "else:\n",
    "    f.close()\n",
    "    print(\"this will be executed\")"
   ]
  },
  {
   "cell_type": "markdown",
   "id": "6cb281eb-2f09-4528-89df-3f536e79d258",
   "metadata": {},
   "source": [
    "\"\"\" b) Finally- will be executed always whether the condition \"\"\""
   ]
  },
  {
   "cell_type": "code",
   "execution_count": 12,
   "id": "3d2c651b-2b4a-4ca1-a0c9-b63293504a28",
   "metadata": {},
   "outputs": [
    {
     "name": "stdout",
     "output_type": "stream",
     "text": [
      "there is some error in the program\n",
      "this will be executed always\n"
     ]
    }
   ],
   "source": [
    "try:\n",
    "    f.open(\"test2.txt\",'w')\n",
    "    f.write(\"this is my msg\")\n",
    "except Exception as e:\n",
    "    print (\"there is some error in the program\")\n",
    "else:\n",
    "    f.close()\n",
    "    print(\"this will be executed\")\n",
    "finally:\n",
    "    print(\"this will be executed always\")"
   ]
  },
  {
   "cell_type": "markdown",
   "id": "6d004a98-3e76-45f4-b95e-78a28fe0f7c6",
   "metadata": {},
   "source": [
    "\"\"\" c)Raise- Raise is  a reserved keyword which is used to update the class.It in custom except handling\"\"\""
   ]
  },
  {
   "cell_type": "markdown",
   "id": "96127db9-8369-40e9-8b65-ae3de35d51ec",
   "metadata": {},
   "source": [
    "# Qn 5"
   ]
  },
  {
   "cell_type": "markdown",
   "id": "aac47843-f2c2-4cd7-9460-8bcd023c56af",
   "metadata": {},
   "source": [
    "\"\"\" Custom exception is defined by creating a new class that is derived from the built in exception class.We need custom exception to catch and provide specific treatment to a subset of exiting phython exception\"\"\""
   ]
  },
  {
   "cell_type": "code",
   "execution_count": 13,
   "id": "f7e36af5-0ead-4102-8584-7af1c33741f1",
   "metadata": {},
   "outputs": [],
   "source": [
    "class validateage(Exception):\n",
    "    def __init__(self,msg):\n",
    "        self.msg=msg\n",
    "        "
   ]
  },
  {
   "cell_type": "code",
   "execution_count": null,
   "id": "17713455-1e12-40b4-b382-8b67f1b93010",
   "metadata": {},
   "outputs": [],
   "source": [
    "def valid_age(age):\n",
    "    if age > 18:\n",
    "        raise validateage(\"right to vote\")\n",
    "    else:\n",
    "        print(\"not valid to vote\")\n",
    "        "
   ]
  },
  {
   "cell_type": "code",
   "execution_count": 19,
   "id": "de9be174-ba45-47aa-9315-c857ced4f15a",
   "metadata": {},
   "outputs": [
    {
     "name": "stdin",
     "output_type": "stream",
     "text": [
      "enter your age 34\n"
     ]
    },
    {
     "ename": "TypeError",
     "evalue": "'>' not supported between instances of 'str' and 'int'",
     "output_type": "error",
     "traceback": [
      "\u001b[0;31m---------------------------------------------------------------------------\u001b[0m",
      "\u001b[0;31mTypeError\u001b[0m                                 Traceback (most recent call last)",
      "Cell \u001b[0;32mIn[19], line 3\u001b[0m\n\u001b[1;32m      1\u001b[0m \u001b[38;5;28;01mtry\u001b[39;00m:\n\u001b[1;32m      2\u001b[0m     age\u001b[38;5;241m=\u001b[39m\u001b[38;5;28mint\u001b[39m(\u001b[38;5;28minput\u001b[39m(\u001b[38;5;124m\"\u001b[39m\u001b[38;5;124menter your age\u001b[39m\u001b[38;5;124m\"\u001b[39m))\n\u001b[0;32m----> 3\u001b[0m     \u001b[43mvalid_age\u001b[49m\u001b[43m(\u001b[49m\u001b[43mage\u001b[49m\u001b[43m)\u001b[49m\n\u001b[1;32m      4\u001b[0m \u001b[38;5;28;01mexcept\u001b[39;00m validateage \u001b[38;5;28;01mas\u001b[39;00m e:\n\u001b[1;32m      5\u001b[0m     \u001b[38;5;28mprint\u001b[39m (e)\n",
      "Cell \u001b[0;32mIn[16], line 3\u001b[0m, in \u001b[0;36mvalid_age\u001b[0;34m(age)\u001b[0m\n\u001b[1;32m      1\u001b[0m \u001b[38;5;28;01mdef\u001b[39;00m \u001b[38;5;21mvalid_age\u001b[39m(age):\n\u001b[1;32m      2\u001b[0m     \u001b[38;5;28;01mif\u001b[39;00m age \u001b[38;5;241m>\u001b[39m \u001b[38;5;241m18\u001b[39m:\n\u001b[0;32m----> 3\u001b[0m         \u001b[38;5;28;01mraise\u001b[39;00m \u001b[43mvalid_age\u001b[49m\u001b[43m(\u001b[49m\u001b[38;5;124;43m\"\u001b[39;49m\u001b[38;5;124;43mright to vote\u001b[39;49m\u001b[38;5;124;43m\"\u001b[39;49m\u001b[43m)\u001b[49m\n\u001b[1;32m      4\u001b[0m     \u001b[38;5;28;01melse\u001b[39;00m:\n\u001b[1;32m      5\u001b[0m         \u001b[38;5;28mprint\u001b[39m(\u001b[38;5;124m\"\u001b[39m\u001b[38;5;124mnot valid to vote\u001b[39m\u001b[38;5;124m\"\u001b[39m)\n",
      "Cell \u001b[0;32mIn[16], line 2\u001b[0m, in \u001b[0;36mvalid_age\u001b[0;34m(age)\u001b[0m\n\u001b[1;32m      1\u001b[0m \u001b[38;5;28;01mdef\u001b[39;00m \u001b[38;5;21mvalid_age\u001b[39m(age):\n\u001b[0;32m----> 2\u001b[0m     \u001b[38;5;28;01mif\u001b[39;00m \u001b[43mage\u001b[49m\u001b[43m \u001b[49m\u001b[38;5;241;43m>\u001b[39;49m\u001b[43m \u001b[49m\u001b[38;5;241;43m18\u001b[39;49m:\n\u001b[1;32m      3\u001b[0m         \u001b[38;5;28;01mraise\u001b[39;00m valid_age(\u001b[38;5;124m\"\u001b[39m\u001b[38;5;124mright to vote\u001b[39m\u001b[38;5;124m\"\u001b[39m)\n\u001b[1;32m      4\u001b[0m     \u001b[38;5;28;01melse\u001b[39;00m:\n",
      "\u001b[0;31mTypeError\u001b[0m: '>' not supported between instances of 'str' and 'int'"
     ]
    }
   ],
   "source": [
    "try:\n",
    "    age=int(input(\"enter your age\"))\n",
    "    valid_age(age)\n",
    "except validateage as e:\n",
    "    print (e)"
   ]
  },
  {
   "cell_type": "code",
   "execution_count": null,
   "id": "8687a5ca-8148-46a7-8e64-45ef28387425",
   "metadata": {},
   "outputs": [],
   "source": []
  }
 ],
 "metadata": {
  "kernelspec": {
   "display_name": "Python 3 (ipykernel)",
   "language": "python",
   "name": "python3"
  },
  "language_info": {
   "codemirror_mode": {
    "name": "ipython",
    "version": 3
   },
   "file_extension": ".py",
   "mimetype": "text/x-python",
   "name": "python",
   "nbconvert_exporter": "python",
   "pygments_lexer": "ipython3",
   "version": "3.10.8"
  }
 },
 "nbformat": 4,
 "nbformat_minor": 5
}
